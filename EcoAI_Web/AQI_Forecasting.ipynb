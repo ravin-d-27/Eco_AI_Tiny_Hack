{
 "cells": [
  {
   "attachments": {},
   "cell_type": "markdown",
   "metadata": {},
   "source": [
    "# AQI Forecasting"
   ]
  },
  {
   "attachments": {},
   "cell_type": "markdown",
   "metadata": {},
   "source": [
    "This forecasting is done via RNN-LSTM model and it shows the forecast for next 30 days in Pune City"
   ]
  },
  {
   "cell_type": "code",
   "execution_count": 41,
   "metadata": {},
   "outputs": [],
   "source": [
    "import pandas as pd\n",
    "import matplotlib.pyplot as plt\n",
    "import numpy as np"
   ]
  },
  {
   "cell_type": "code",
   "execution_count": 42,
   "metadata": {},
   "outputs": [],
   "source": [
    "from ann import lstm"
   ]
  },
  {
   "cell_type": "code",
   "execution_count": 43,
   "metadata": {},
   "outputs": [
    {
     "data": {
      "text/html": [
       "<div>\n",
       "<style scoped>\n",
       "    .dataframe tbody tr th:only-of-type {\n",
       "        vertical-align: middle;\n",
       "    }\n",
       "\n",
       "    .dataframe tbody tr th {\n",
       "        vertical-align: top;\n",
       "    }\n",
       "\n",
       "    .dataframe thead th {\n",
       "        text-align: right;\n",
       "    }\n",
       "</style>\n",
       "<table border=\"1\" class=\"dataframe\">\n",
       "  <thead>\n",
       "    <tr style=\"text-align: right;\">\n",
       "      <th></th>\n",
       "      <th>Date</th>\n",
       "      <th>SO2 µg/m3</th>\n",
       "      <th>Nox µg/m3</th>\n",
       "      <th>RSPM µg/m3</th>\n",
       "      <th>SPM</th>\n",
       "      <th>CO2 µg/m3</th>\n",
       "      <th>AQI</th>\n",
       "      <th>Location</th>\n",
       "    </tr>\n",
       "  </thead>\n",
       "  <tbody>\n",
       "    <tr>\n",
       "      <th>0</th>\n",
       "      <td>2009-01-01 00:00:00</td>\n",
       "      <td>15</td>\n",
       "      <td>53</td>\n",
       "      <td>179.0</td>\n",
       "      <td>NaN</td>\n",
       "      <td>NaN</td>\n",
       "      <td>153.0</td>\n",
       "      <td>MPCB-KR</td>\n",
       "    </tr>\n",
       "    <tr>\n",
       "      <th>1</th>\n",
       "      <td>2009-02-01 00:00:00</td>\n",
       "      <td>15</td>\n",
       "      <td>48</td>\n",
       "      <td>156.0</td>\n",
       "      <td>NaN</td>\n",
       "      <td>NaN</td>\n",
       "      <td>137.0</td>\n",
       "      <td>MPCB-KR</td>\n",
       "    </tr>\n",
       "    <tr>\n",
       "      <th>2</th>\n",
       "      <td>2009-03-01 00:00:00</td>\n",
       "      <td>13</td>\n",
       "      <td>51</td>\n",
       "      <td>164.0</td>\n",
       "      <td>NaN</td>\n",
       "      <td>NaN</td>\n",
       "      <td>143.0</td>\n",
       "      <td>MPCB-KR</td>\n",
       "    </tr>\n",
       "    <tr>\n",
       "      <th>3</th>\n",
       "      <td>2009-04-01 00:00:00</td>\n",
       "      <td>8</td>\n",
       "      <td>37</td>\n",
       "      <td>135.0</td>\n",
       "      <td>NaN</td>\n",
       "      <td>NaN</td>\n",
       "      <td>123.0</td>\n",
       "      <td>MPCB-KR</td>\n",
       "    </tr>\n",
       "    <tr>\n",
       "      <th>4</th>\n",
       "      <td>2009-07-01 00:00:00</td>\n",
       "      <td>13</td>\n",
       "      <td>36</td>\n",
       "      <td>140.0</td>\n",
       "      <td>NaN</td>\n",
       "      <td>NaN</td>\n",
       "      <td>127.0</td>\n",
       "      <td>MPCB-KR</td>\n",
       "    </tr>\n",
       "  </tbody>\n",
       "</table>\n",
       "</div>"
      ],
      "text/plain": [
       "                  Date SO2 µg/m3 Nox µg/m3  RSPM µg/m3  SPM  CO2 µg/m3    AQI  \\\n",
       "0  2009-01-01 00:00:00        15        53       179.0  NaN        NaN  153.0   \n",
       "1  2009-02-01 00:00:00        15        48       156.0  NaN        NaN  137.0   \n",
       "2  2009-03-01 00:00:00        13        51       164.0  NaN        NaN  143.0   \n",
       "3  2009-04-01 00:00:00         8        37       135.0  NaN        NaN  123.0   \n",
       "4  2009-07-01 00:00:00        13        36       140.0  NaN        NaN  127.0   \n",
       "\n",
       "  Location  \n",
       "0  MPCB-KR  \n",
       "1  MPCB-KR  \n",
       "2  MPCB-KR  \n",
       "3  MPCB-KR  \n",
       "4  MPCB-KR  "
      ]
     },
     "execution_count": 43,
     "metadata": {},
     "output_type": "execute_result"
    }
   ],
   "source": [
    "datatset = pd.read_csv(\"PNQ_AQI.csv\")\n",
    "datatset.head()"
   ]
  },
  {
   "attachments": {},
   "cell_type": "markdown",
   "metadata": {},
   "source": [
    "Preprocessing"
   ]
  },
  {
   "cell_type": "code",
   "execution_count": 44,
   "metadata": {},
   "outputs": [
    {
     "data": {
      "text/plain": [
       "57"
      ]
     },
     "execution_count": 44,
     "metadata": {},
     "output_type": "execute_result"
    }
   ],
   "source": [
    "datatset[\"AQI\"].isnull().sum()"
   ]
  },
  {
   "cell_type": "code",
   "execution_count": 45,
   "metadata": {},
   "outputs": [],
   "source": [
    "datatset['AQI'].fillna(value=datatset['AQI'].mean(), inplace=True)"
   ]
  },
  {
   "cell_type": "code",
   "execution_count": 46,
   "metadata": {},
   "outputs": [
    {
     "data": {
      "text/plain": [
       "0"
      ]
     },
     "execution_count": 46,
     "metadata": {},
     "output_type": "execute_result"
    }
   ],
   "source": [
    "datatset[\"AQI\"].isnull().sum()"
   ]
  },
  {
   "cell_type": "code",
   "execution_count": 47,
   "metadata": {},
   "outputs": [
    {
     "data": {
      "text/html": [
       "<div>\n",
       "<style scoped>\n",
       "    .dataframe tbody tr th:only-of-type {\n",
       "        vertical-align: middle;\n",
       "    }\n",
       "\n",
       "    .dataframe tbody tr th {\n",
       "        vertical-align: top;\n",
       "    }\n",
       "\n",
       "    .dataframe thead th {\n",
       "        text-align: right;\n",
       "    }\n",
       "</style>\n",
       "<table border=\"1\" class=\"dataframe\">\n",
       "  <thead>\n",
       "    <tr style=\"text-align: right;\">\n",
       "      <th></th>\n",
       "      <th>Date</th>\n",
       "      <th>SO2 µg/m3</th>\n",
       "      <th>Nox µg/m3</th>\n",
       "      <th>RSPM µg/m3</th>\n",
       "      <th>SPM</th>\n",
       "      <th>CO2 µg/m3</th>\n",
       "      <th>AQI</th>\n",
       "      <th>Location</th>\n",
       "    </tr>\n",
       "  </thead>\n",
       "  <tbody>\n",
       "    <tr>\n",
       "      <th>0</th>\n",
       "      <td>2009-01-01 00:00:00</td>\n",
       "      <td>15</td>\n",
       "      <td>53</td>\n",
       "      <td>179.0</td>\n",
       "      <td>NaN</td>\n",
       "      <td>NaN</td>\n",
       "      <td>153.0</td>\n",
       "      <td>MPCB-KR</td>\n",
       "    </tr>\n",
       "    <tr>\n",
       "      <th>1</th>\n",
       "      <td>2009-02-01 00:00:00</td>\n",
       "      <td>15</td>\n",
       "      <td>48</td>\n",
       "      <td>156.0</td>\n",
       "      <td>NaN</td>\n",
       "      <td>NaN</td>\n",
       "      <td>137.0</td>\n",
       "      <td>MPCB-KR</td>\n",
       "    </tr>\n",
       "    <tr>\n",
       "      <th>2</th>\n",
       "      <td>2009-03-01 00:00:00</td>\n",
       "      <td>13</td>\n",
       "      <td>51</td>\n",
       "      <td>164.0</td>\n",
       "      <td>NaN</td>\n",
       "      <td>NaN</td>\n",
       "      <td>143.0</td>\n",
       "      <td>MPCB-KR</td>\n",
       "    </tr>\n",
       "    <tr>\n",
       "      <th>3</th>\n",
       "      <td>2009-04-01 00:00:00</td>\n",
       "      <td>8</td>\n",
       "      <td>37</td>\n",
       "      <td>135.0</td>\n",
       "      <td>NaN</td>\n",
       "      <td>NaN</td>\n",
       "      <td>123.0</td>\n",
       "      <td>MPCB-KR</td>\n",
       "    </tr>\n",
       "    <tr>\n",
       "      <th>4</th>\n",
       "      <td>2009-07-01 00:00:00</td>\n",
       "      <td>13</td>\n",
       "      <td>36</td>\n",
       "      <td>140.0</td>\n",
       "      <td>NaN</td>\n",
       "      <td>NaN</td>\n",
       "      <td>127.0</td>\n",
       "      <td>MPCB-KR</td>\n",
       "    </tr>\n",
       "  </tbody>\n",
       "</table>\n",
       "</div>"
      ],
      "text/plain": [
       "                  Date SO2 µg/m3 Nox µg/m3  RSPM µg/m3  SPM  CO2 µg/m3    AQI  \\\n",
       "0  2009-01-01 00:00:00        15        53       179.0  NaN        NaN  153.0   \n",
       "1  2009-02-01 00:00:00        15        48       156.0  NaN        NaN  137.0   \n",
       "2  2009-03-01 00:00:00        13        51       164.0  NaN        NaN  143.0   \n",
       "3  2009-04-01 00:00:00         8        37       135.0  NaN        NaN  123.0   \n",
       "4  2009-07-01 00:00:00        13        36       140.0  NaN        NaN  127.0   \n",
       "\n",
       "  Location  \n",
       "0  MPCB-KR  \n",
       "1  MPCB-KR  \n",
       "2  MPCB-KR  \n",
       "3  MPCB-KR  \n",
       "4  MPCB-KR  "
      ]
     },
     "execution_count": 47,
     "metadata": {},
     "output_type": "execute_result"
    }
   ],
   "source": [
    "datatset.head()"
   ]
  },
  {
   "cell_type": "code",
   "execution_count": 48,
   "metadata": {},
   "outputs": [],
   "source": [
    "data = datatset.iloc[:,6:7].values"
   ]
  },
  {
   "cell_type": "code",
   "execution_count": 49,
   "metadata": {},
   "outputs": [
    {
     "data": {
      "text/plain": [
       "array([[153.],\n",
       "       [137.],\n",
       "       [143.],\n",
       "       ...,\n",
       "       [173.],\n",
       "       [108.],\n",
       "       [147.]])"
      ]
     },
     "execution_count": 49,
     "metadata": {},
     "output_type": "execute_result"
    }
   ],
   "source": [
    "data"
   ]
  },
  {
   "cell_type": "code",
   "execution_count": 50,
   "metadata": {},
   "outputs": [
    {
     "data": {
      "text/plain": [
       "array([[153.],\n",
       "       [137.],\n",
       "       [143.],\n",
       "       [123.],\n",
       "       [127.],\n",
       "       [123.],\n",
       "       [131.],\n",
       "       [124.],\n",
       "       [110.],\n",
       "       [143.]])"
      ]
     },
     "execution_count": 50,
     "metadata": {},
     "output_type": "execute_result"
    }
   ],
   "source": [
    "data[:10]"
   ]
  },
  {
   "cell_type": "code",
   "execution_count": 51,
   "metadata": {},
   "outputs": [
    {
     "data": {
      "text/plain": [
       "7844"
      ]
     },
     "execution_count": 51,
     "metadata": {},
     "output_type": "execute_result"
    }
   ],
   "source": [
    "len(data)"
   ]
  },
  {
   "cell_type": "code",
   "execution_count": 52,
   "metadata": {},
   "outputs": [],
   "source": [
    "training_set = data[:7844-60]"
   ]
  },
  {
   "cell_type": "code",
   "execution_count": 53,
   "metadata": {},
   "outputs": [],
   "source": [
    "testing_set = data[7844-60:]"
   ]
  },
  {
   "cell_type": "code",
   "execution_count": 54,
   "metadata": {},
   "outputs": [
    {
     "data": {
      "text/plain": [
       "60"
      ]
     },
     "execution_count": 54,
     "metadata": {},
     "output_type": "execute_result"
    }
   ],
   "source": [
    "len(testing_set)"
   ]
  },
  {
   "cell_type": "code",
   "execution_count": 55,
   "metadata": {},
   "outputs": [
    {
     "data": {
      "text/plain": [
       "7784"
      ]
     },
     "execution_count": 55,
     "metadata": {},
     "output_type": "execute_result"
    }
   ],
   "source": [
    "len(training_set)"
   ]
  },
  {
   "cell_type": "code",
   "execution_count": 56,
   "metadata": {},
   "outputs": [],
   "source": [
    "from sklearn.preprocessing import MinMaxScaler\n",
    "sc = MinMaxScaler(feature_range= (0,1))\n",
    "training_set_scaled = sc.fit_transform(training_set)"
   ]
  },
  {
   "cell_type": "code",
   "execution_count": 57,
   "metadata": {},
   "outputs": [],
   "source": [
    "X_train = []\n",
    "y_train = []\n",
    "\n",
    "for i in range(60, len(training_set_scaled)):\n",
    "    X_train.append(training_set_scaled[i-60:i, 0])\n",
    "    y_train.append(training_set_scaled[i, 0])\n",
    "    \n",
    "X_train, y_train = np.array(X_train), np.array(y_train)"
   ]
  },
  {
   "attachments": {},
   "cell_type": "markdown",
   "metadata": {},
   "source": [
    "Reshaping"
   ]
  },
  {
   "cell_type": "code",
   "execution_count": 58,
   "metadata": {},
   "outputs": [],
   "source": [
    "X_train =  np.reshape(X_train, (X_train.shape[0], X_train.shape[1], 1))"
   ]
  },
  {
   "cell_type": "code",
   "execution_count": 59,
   "metadata": {},
   "outputs": [
    {
     "name": "stdout",
     "output_type": "stream",
     "text": [
      "Architecture of the Multi Stack LSTM Layer is ready!\n"
     ]
    }
   ],
   "source": [
    "model = lstm(X_train, y_train)"
   ]
  },
  {
   "cell_type": "code",
   "execution_count": 60,
   "metadata": {},
   "outputs": [
    {
     "name": "stdout",
     "output_type": "stream",
     "text": [
      "Epoch 1/5\n",
      "242/242 [==============================] - 17s 56ms/step - loss: 0.0026\n",
      "Epoch 2/5\n",
      "242/242 [==============================] - 16s 66ms/step - loss: 0.0020\n",
      "Epoch 3/5\n",
      "242/242 [==============================] - 14s 60ms/step - loss: 0.0018\n",
      "Epoch 4/5\n",
      "242/242 [==============================] - 16s 67ms/step - loss: 0.0017\n",
      "Epoch 5/5\n",
      "242/242 [==============================] - 15s 63ms/step - loss: 0.0016\n"
     ]
    },
    {
     "data": {
      "text/plain": [
       "<keras.engine.sequential.Sequential at 0x116311799a0>"
      ]
     },
     "execution_count": 60,
     "metadata": {},
     "output_type": "execute_result"
    }
   ],
   "source": [
    "model.train_it()"
   ]
  },
  {
   "cell_type": "code",
   "execution_count": 61,
   "metadata": {},
   "outputs": [],
   "source": [
    "dataset_test = pd.read_csv(\"test_pune.csv\")\n",
    "testing_set = dataset_test.iloc[:, 6:7].values"
   ]
  },
  {
   "cell_type": "code",
   "execution_count": 62,
   "metadata": {},
   "outputs": [
    {
     "data": {
      "text/plain": [
       "array([[ 91],\n",
       "       [ 80],\n",
       "       [ 53],\n",
       "       [ 83],\n",
       "       [ 70],\n",
       "       [120],\n",
       "       [ 89],\n",
       "       [132],\n",
       "       [122],\n",
       "       [166],\n",
       "       [130],\n",
       "       [110],\n",
       "       [117],\n",
       "       [175],\n",
       "       [144],\n",
       "       [128],\n",
       "       [126],\n",
       "       [122],\n",
       "       [130],\n",
       "       [151],\n",
       "       [168],\n",
       "       [187],\n",
       "       [153],\n",
       "       [142],\n",
       "       [153],\n",
       "       [123],\n",
       "       [152],\n",
       "       [173],\n",
       "       [108],\n",
       "       [147]], dtype=int64)"
      ]
     },
     "execution_count": 62,
     "metadata": {},
     "output_type": "execute_result"
    }
   ],
   "source": [
    "testing_set"
   ]
  },
  {
   "cell_type": "code",
   "execution_count": 63,
   "metadata": {},
   "outputs": [],
   "source": [
    "dataset_total = pd.concat((datatset['AQI'], dataset_test['AQI']), axis = 0)"
   ]
  },
  {
   "cell_type": "code",
   "execution_count": 64,
   "metadata": {},
   "outputs": [
    {
     "data": {
      "text/plain": [
       "0     153.0\n",
       "1     137.0\n",
       "2     143.0\n",
       "3     123.0\n",
       "4     127.0\n",
       "      ...  \n",
       "25    123.0\n",
       "26    152.0\n",
       "27    173.0\n",
       "28    108.0\n",
       "29    147.0\n",
       "Name: AQI, Length: 7874, dtype: float64"
      ]
     },
     "execution_count": 64,
     "metadata": {},
     "output_type": "execute_result"
    }
   ],
   "source": [
    "dataset_total"
   ]
  },
  {
   "cell_type": "code",
   "execution_count": 65,
   "metadata": {},
   "outputs": [
    {
     "name": "stderr",
     "output_type": "stream",
     "text": [
      "C:\\Users\\ravin\\AppData\\Local\\Temp\\ipykernel_8996\\2846909557.py:1: FutureWarning: The behavior of `series[i:j]` with an integer-dtype index is deprecated. In a future version, this will be treated as *label-based* indexing, consistent with e.g. `series[i]` lookups. To retain the old behavior, use `series.iloc[i:j]`. To get the future behavior, use `series.loc[i:j]`.\n",
      "  inputs = dataset_total[len(dataset_total)-len(dataset_test)-60 : ].values\n"
     ]
    }
   ],
   "source": [
    "inputs = dataset_total[len(dataset_total)-len(dataset_test)-60 : ].values\n",
    "inputs = inputs.reshape(-1,1)\n",
    "inputs = sc.transform(inputs)"
   ]
  },
  {
   "cell_type": "code",
   "execution_count": 66,
   "metadata": {},
   "outputs": [
    {
     "data": {
      "text/plain": [
       "array([[0.18373072],\n",
       "       [0.20336606],\n",
       "       [0.18934081],\n",
       "       [0.18793829],\n",
       "       [0.16269285],\n",
       "       [0.20336606],\n",
       "       [0.16970547],\n",
       "       [0.14586255],\n",
       "       [0.14726508],\n",
       "       [0.09957924],\n",
       "       [0.11781206],\n",
       "       [0.11220196],\n",
       "       [0.1598878 ],\n",
       "       [0.13744741],\n",
       "       [0.1486676 ],\n",
       "       [0.12482468],\n",
       "       [0.08274895],\n",
       "       [0.07713885],\n",
       "       [0.10378682],\n",
       "       [0.12762973],\n",
       "       [0.0687237 ],\n",
       "       [0.11220196],\n",
       "       [0.15147265],\n",
       "       [0.0687237 ],\n",
       "       [0.11781206],\n",
       "       [0.07854137],\n",
       "       [0.09957924],\n",
       "       [0.07713885],\n",
       "       [0.07854137],\n",
       "       [0.12622721],\n",
       "       [0.12762973],\n",
       "       [0.11220196],\n",
       "       [0.0743338 ],\n",
       "       [0.11640954],\n",
       "       [0.09817672],\n",
       "       [0.16830295],\n",
       "       [0.12482468],\n",
       "       [0.18513324],\n",
       "       [0.17110799],\n",
       "       [0.23281907],\n",
       "       [0.18232819],\n",
       "       [0.1542777 ],\n",
       "       [0.16409537],\n",
       "       [0.2454418 ],\n",
       "       [0.20196353],\n",
       "       [0.17952314],\n",
       "       [0.17671809],\n",
       "       [0.17110799],\n",
       "       [0.18232819],\n",
       "       [0.21178121],\n",
       "       [0.23562412],\n",
       "       [0.26227209],\n",
       "       [0.21458626],\n",
       "       [0.19915849],\n",
       "       [0.21458626],\n",
       "       [0.17251052],\n",
       "       [0.21318373],\n",
       "       [0.24263675],\n",
       "       [0.15147265],\n",
       "       [0.20617111],\n",
       "       [0.12762973],\n",
       "       [0.11220196],\n",
       "       [0.0743338 ],\n",
       "       [0.11640954],\n",
       "       [0.09817672],\n",
       "       [0.16830295],\n",
       "       [0.12482468],\n",
       "       [0.18513324],\n",
       "       [0.17110799],\n",
       "       [0.23281907],\n",
       "       [0.18232819],\n",
       "       [0.1542777 ],\n",
       "       [0.16409537],\n",
       "       [0.2454418 ],\n",
       "       [0.20196353],\n",
       "       [0.17952314],\n",
       "       [0.17671809],\n",
       "       [0.17110799],\n",
       "       [0.18232819],\n",
       "       [0.21178121],\n",
       "       [0.23562412],\n",
       "       [0.26227209],\n",
       "       [0.21458626],\n",
       "       [0.19915849],\n",
       "       [0.21458626],\n",
       "       [0.17251052],\n",
       "       [0.21318373],\n",
       "       [0.24263675],\n",
       "       [0.15147265],\n",
       "       [0.20617111]])"
      ]
     },
     "execution_count": 66,
     "metadata": {},
     "output_type": "execute_result"
    }
   ],
   "source": [
    "inputs"
   ]
  },
  {
   "cell_type": "code",
   "execution_count": 67,
   "metadata": {},
   "outputs": [],
   "source": [
    "X_test = []\n",
    "\n",
    "for i in range(60, len(inputs)):\n",
    "    X_test.append(inputs[i-60:i, 0])\n",
    "X_test = np.array(X_test)"
   ]
  },
  {
   "cell_type": "code",
   "execution_count": 68,
   "metadata": {},
   "outputs": [],
   "source": [
    "X_test = np.reshape(X_test, (X_test.shape[0], X_test.shape[1], 1))"
   ]
  },
  {
   "cell_type": "code",
   "execution_count": 69,
   "metadata": {},
   "outputs": [
    {
     "data": {
      "text/plain": [
       "array([[[0.18373072],\n",
       "        [0.20336606],\n",
       "        [0.18934081],\n",
       "        ...,\n",
       "        [0.24263675],\n",
       "        [0.15147265],\n",
       "        [0.20617111]],\n",
       "\n",
       "       [[0.20336606],\n",
       "        [0.18934081],\n",
       "        [0.18793829],\n",
       "        ...,\n",
       "        [0.15147265],\n",
       "        [0.20617111],\n",
       "        [0.12762973]],\n",
       "\n",
       "       [[0.18934081],\n",
       "        [0.18793829],\n",
       "        [0.16269285],\n",
       "        ...,\n",
       "        [0.20617111],\n",
       "        [0.12762973],\n",
       "        [0.11220196]],\n",
       "\n",
       "       ...,\n",
       "\n",
       "       [[0.07713885],\n",
       "        [0.07854137],\n",
       "        [0.12622721],\n",
       "        ...,\n",
       "        [0.21458626],\n",
       "        [0.17251052],\n",
       "        [0.21318373]],\n",
       "\n",
       "       [[0.07854137],\n",
       "        [0.12622721],\n",
       "        [0.12762973],\n",
       "        ...,\n",
       "        [0.17251052],\n",
       "        [0.21318373],\n",
       "        [0.24263675]],\n",
       "\n",
       "       [[0.12622721],\n",
       "        [0.12762973],\n",
       "        [0.11220196],\n",
       "        ...,\n",
       "        [0.21318373],\n",
       "        [0.24263675],\n",
       "        [0.15147265]]])"
      ]
     },
     "execution_count": 69,
     "metadata": {},
     "output_type": "execute_result"
    }
   ],
   "source": [
    "X_test"
   ]
  },
  {
   "cell_type": "code",
   "execution_count": 70,
   "metadata": {},
   "outputs": [
    {
     "name": "stdout",
     "output_type": "stream",
     "text": [
      "1/1 [==============================] - 1s 1s/step\n"
     ]
    }
   ],
   "source": [
    "y_predicted = model.predict_it(X_test)"
   ]
  },
  {
   "cell_type": "code",
   "execution_count": 71,
   "metadata": {},
   "outputs": [
    {
     "data": {
      "text/plain": [
       "30"
      ]
     },
     "execution_count": 71,
     "metadata": {},
     "output_type": "execute_result"
    }
   ],
   "source": [
    "len(y_predicted)"
   ]
  },
  {
   "cell_type": "code",
   "execution_count": 72,
   "metadata": {},
   "outputs": [],
   "source": [
    "predicted_actual = sc.inverse_transform(y_predicted)"
   ]
  },
  {
   "cell_type": "code",
   "execution_count": 73,
   "metadata": {},
   "outputs": [
    {
     "data": {
      "text/plain": [
       "array([[143.25667 ],\n",
       "       [136.79018 ],\n",
       "       [126.1556  ],\n",
       "       [112.056404],\n",
       "       [101.13794 ],\n",
       "       [ 93.96923 ],\n",
       "       [ 95.08132 ],\n",
       "       [ 98.68847 ],\n",
       "       [105.649414],\n",
       "       [112.66414 ],\n",
       "       [122.35995 ],\n",
       "       [128.59967 ],\n",
       "       [127.77393 ],\n",
       "       [123.29291 ],\n",
       "       [125.234924],\n",
       "       [129.80836 ],\n",
       "       [132.06825 ],\n",
       "       [131.50403 ],\n",
       "       [129.30304 ],\n",
       "       [127.97361 ],\n",
       "       [130.50902 ],\n",
       "       [137.58774 ],\n",
       "       [148.32727 ],\n",
       "       [154.9424  ],\n",
       "       [155.0086  ],\n",
       "       [152.53279 ],\n",
       "       [146.87964 ],\n",
       "       [143.51752 ],\n",
       "       [145.88751 ],\n",
       "       [144.36043 ]], dtype=float32)"
      ]
     },
     "execution_count": 73,
     "metadata": {},
     "output_type": "execute_result"
    }
   ],
   "source": [
    "predicted_actual"
   ]
  },
  {
   "cell_type": "code",
   "execution_count": 74,
   "metadata": {},
   "outputs": [
    {
     "data": {
      "image/png": "[encoded data removed]",
      "text/plain": [
       "<Figure size 640x480 with 1 Axes>"
      ]
     },
     "metadata": {},
     "output_type": "display_data"
    }
   ],
   "source": [
    "plt.plot(testing_set, color = 'red', label = \"Real AQI\")\n",
    "plt.plot(predicted_actual, color = 'Blue', label = \"Predicted AQI\")\n",
    "plt.title(\"AQI on testset\")\n",
    "plt.xlabel(\"Days\")\n",
    "plt.ylabel(\"AQI Levels\")\n",
    "plt.legend()\n",
    "plt.show()"
   ]
  },
  {
   "cell_type": "code",
   "execution_count": null,
   "metadata": {},
   "outputs": [],
   "source": []
  }
 ],
 "metadata": {
  "kernelspec": {
   "display_name": "Python 3",
   "language": "python",
   "name": "python3"
  },
  "language_info": {
   "codemirror_mode": {
    "name": "ipython",
    "version": 3
   },
   "file_extension": ".py",
   "mimetype": "text/x-python",
   "name": "python",
   "nbconvert_exporter": "python",
   "pygments_lexer": "ipython3",
   "version": "3.9.8 (tags/v3.9.8:bb3fdcf, Nov  5 2021, 20:48:33) [MSC v.1929 64 bit (AMD64)]"
  },
  "orig_nbformat": 4,
  "vscode": {
   "interpreter": {
    "hash": "9f21f1895792ccd6804a693f800a8ad892523c966fb0e2796cb78cf8e3c2fca3"
   }
  }
 },
 "nbformat": 4,
 "nbformat_minor": 2
}
